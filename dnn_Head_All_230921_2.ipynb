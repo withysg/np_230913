{
 "cells": [
  {
   "cell_type": "code",
   "execution_count": 2,
   "metadata": {},
   "outputs": [
    {
     "name": "stdout",
     "output_type": "stream",
     "text": [
      "cuda\n"
     ]
    }
   ],
   "source": [
    "# Torch 계열\n",
    "import numpy as np\n",
    "import pandas as pd\n",
    "import time\n",
    "import matplotlib.pyplot as plt\n",
    "import seaborn as sns\n",
    "import os\n",
    "\n",
    "import torch\n",
    "import torch.nn as nn\n",
    "import torch.optim as optim\n",
    "from sklearn.datasets import load_iris\n",
    "from sklearn.model_selection import train_test_split\n",
    "from sklearn.metrics import accuracy_score\n",
    "from sklearn.preprocessing import MinMaxScaler, LabelEncoder, StandardScaler\n",
    "from torch.utils.data import Dataset, DataLoader\n",
    "from pickle import dump\n",
    "from pickle import load\n",
    "\n",
    "import warnings\n",
    "warnings.filterwarnings('ignore')\n",
    "\n",
    "device = torch.device(\"cuda\" if torch.cuda.is_available() else \"cpu\")\n",
    "print(device)\n",
    "\n"
   ]
  },
  {
   "cell_type": "code",
   "execution_count": 2,
   "metadata": {},
   "outputs": [],
   "source": [
    "######## Test용 ############\n",
    "# scaler = load(open('MinMax_scaler_Head_230921.pkl', 'rb'))    #Scaler 불러오기"
   ]
  },
  {
   "cell_type": "code",
   "execution_count": 19,
   "metadata": {},
   "outputs": [
    {
     "name": "stdout",
     "output_type": "stream",
     "text": [
      "(1, 32055) (1, 32041, 10)\n",
      "(1, 32055)\n",
      "32055 10 32041\n"
     ]
    }
   ],
   "source": [
    "# Load the dataset _Mix\n",
    "# X = np.load('EBR32094107_BOT_Head100_x.npy', allow_pickle=True)  \n",
    "## X = X[:, :15] 으로 학습 시, Epoch [31/100000], Train Loss: 0.00883, Train Acc: 0.911, Valid Loss: 0.02390, Valid Acc: 0.902\n",
    "# y = np.load('All_Head_Simple_NoMix_y.npy')\n",
    "# category_var = np.load('EBR32094107_BOT_Head100_y.npy', allow_pickle=True)\n",
    "\n",
    "# X = np.load('All_Head_Simple_NoMix_x.npy')  # 여기 데이터셋으로 검증하면 정확도 0.89 임\n",
    "# category_var = np.load('All_Head_Simple_NoMix_y.npy')\n",
    "\n",
    "# X = np.load('All_Head_Simple_x.npy')\n",
    "# category_var = np.load('All_Head_Simple_y.npy')\n",
    "\n",
    "# X = np.load('D:/py/DGS/EBR32094107_BOT_Head66_x.npy', allow_pickle=True)\n",
    "# category_var = np.load('D:/py/DGS/EBR32094107_BOT_Head66_y.npy', allow_pickle=True)\n",
    "\n",
    "# X = np.load('D:/py/DGS/EBR32094107_BOT_Head_NoMix_x.npy', allow_pickle=True)\n",
    "# category_var = np.load('D:/py/DGS/EBR32094107_BOT_Head_NoMix_y.npy', allow_pickle=True)\n",
    "\n",
    "######################################################\n",
    "#### 학습 / 검증용 #########\n",
    "# X = np.load('Head_230921_2_x.npy', allow_pickle=True)\n",
    "# # X = X[ : , :14]  # 테스트용 동일 모델에서는 옵션값만 있으면 학습이되는지 확인하기 위함 : 결과) 동일 모델로 구성된 데이터셋에서 부품정보없이, 옵션정보만 입력해도 예측율 동일 수준 임\n",
    "\n",
    "# category_var = np.load('Head_230921_2_y.npy', allow_pickle=True)\n",
    "# # print(category_var[:10])\n",
    "\n",
    "\n",
    "# X = X.astype(np.int)\n",
    "# category_var = category_var.astype(np.int)\n",
    "\n",
    "# num_category = len(np.unique(category_var))+1 ## 유니크 범주 개수\n",
    "# identity_mat = np.eye(num_category) ## 단위 행렬\n",
    "# y = identity_mat[category_var] ## 범주에 대응하는 행 추출\n",
    "\n",
    "# print(X.shape , y.shape)\n",
    "# X_train, X_test, y_train, y_valid = train_test_split(X, y, test_size=0.2, random_state=42)\n",
    "\n",
    "# le = LabelEncoder()\n",
    "# # scaler = StandardScaler()\n",
    "# scaler = MinMaxScaler()\n",
    "\n",
    "# X_train_scaled = scaler.fit_transform(X_train)\n",
    "# X_valid_scaled = scaler.transform(X_test)\n",
    "##########################################################################\n",
    "\n",
    "\n",
    "##########################################################################\n",
    "######## Test용 ############\n",
    "# X = np.load('Head_230921_2_test_x.npy', allow_pickle=True)\n",
    "# category_var = np.load('Head_230921_2_test_y.npy', allow_pickle=True)\n",
    "\n",
    "# X = X.astype(np.int)\n",
    "# category_var = category_var.astype(np.int)\n",
    "\n",
    "# num_category = len(np.unique(category_var))+1 ## 유니크 범주 개수\n",
    "# identity_mat = np.eye(num_category) ## 단위 행렬\n",
    "# y = identity_mat[category_var] ## 범주에 대응하는 행 추출\n",
    "\n",
    "# print(X.shape , y.shape)\n",
    "# X_train, X_test, y_train, y_valid = train_test_split(X, y, test_size=0.99, random_state=42)\n",
    "\n",
    "# le = LabelEncoder()\n",
    "# # scaler = StandardScaler()\n",
    "# # scaler = MinMaxScaler()\n",
    "# scaler = load(open('MinMax_scaler_Head_230921.pkl', 'rb'))    #Scaler 불러오기\n",
    "\n",
    "### X_train_scaled = scaler.fit_transform(X_train)    # Test 시, 사용하면 안됨\n",
    "# X_valid_scaled = scaler.transform(X_test)\n",
    "# print(X_valid_scaled.shape)\n",
    "###########################################################################\n",
    "\n",
    "\n",
    "##########################################################################\n",
    "######## NoTrain 용 ############\n",
    "X = np.load('Head_230921_2_NoTrain_x.npy', allow_pickle=True)\n",
    "category_var = np.load('Head_230921_2_NoTrain_y.npy', allow_pickle=True)\n",
    "\n",
    "X = X.astype(np.int)\n",
    "category_var = category_var.astype(np.int)\n",
    "\n",
    "num_category = len(np.unique(category_var))+1 ## 유니크 범주 개수\n",
    "identity_mat = np.eye(num_category) ## 단위 행렬\n",
    "y = identity_mat[category_var] ## 범주에 대응하는 행 추출\n",
    "\n",
    "print(X.shape , y.shape)\n",
    "X_test = X\n",
    "y_valid = y\n",
    "\n",
    "le = LabelEncoder()\n",
    "# scaler = StandardScaler()\n",
    "# scaler = MinMaxScaler()\n",
    "scaler = load(open('MinMax_scaler_Head_230921.pkl', 'rb'))    #Scaler 불러오기\n",
    "\n",
    "X_valid_scaled = scaler.transform(X_test)\n",
    "print(X_valid_scaled.shape)\n",
    "###########################################################################\n",
    "\n",
    "inputsize = X.shape[1]\n",
    "num_classes = y.shape[2]\n",
    "outsize = len(y[0])\n",
    "\n",
    "print(inputsize , num_classes , outsize)\n"
   ]
  },
  {
   "cell_type": "code",
   "execution_count": 24,
   "metadata": {},
   "outputs": [],
   "source": [
    "# dump(scaler, open('MinMax_scaler_Head_230921.pkl', 'wb'))   #Scaler 저장\n",
    "# scaler = load(open('MinMax_scaler_Head_230921.pkl', 'rb'))    #Scaler 불러오기\n",
    "\n",
    "# 스케일러 사용\n",
    "# X_test_scaled = scaler.transform(X_test)  #참조용"
   ]
  },
  {
   "cell_type": "code",
   "execution_count": 4,
   "metadata": {},
   "outputs": [],
   "source": [
    "# 데이터셋 클래스 정의\n",
    "class AssemblyDataset(Dataset):\n",
    "    def __init__(self, X, y):\n",
    "        self.X = torch.tensor(X, dtype=torch.float32)\n",
    "        self.y = torch.tensor(y, dtype=torch.long)\n",
    "\n",
    "    def __len__(self):\n",
    "        return len(self.X)\n",
    "    def __getitem__(self, index):\n",
    "        return self.X[index], self.y[index]"
   ]
  },
  {
   "cell_type": "code",
   "execution_count": 5,
   "metadata": {},
   "outputs": [],
   "source": [
    "# 모델 클래스 정의\n",
    "class AssemblyClassifier(nn.Module):\n",
    "    def __init__(self, hiddenlayer , input_size, nozzle_loc, num_nozzle):\n",
    "        super(AssemblyClassifier, self).__init__()\n",
    "        self.fc = nn.Sequential(\n",
    "            nn.Linear(input_size, hiddenlayer),\n",
    "            nn.ReLU(),\n",
    "            nn.Linear(hiddenlayer, hiddenlayer),\n",
    "            nn.ReLU(),\n",
    "            nn.Linear(hiddenlayer, hiddenlayer),\n",
    "            nn.ReLU(),\n",
    "            nn.Linear(hiddenlayer,nozzle_loc*num_nozzle)\n",
    "        )\n",
    "        self.nozzle_loc = nozzle_loc\n",
    "        self.num_nozzle = num_nozzle\n",
    "\n",
    "    def forward(self, x):\n",
    "        output = self.fc(x)\n",
    "        x = output.view(-1, self.nozzle_loc,self.num_nozzle)\n",
    "        return x\n",
    "\n",
    "class RNNmodel(nn.Module):\n",
    "    def __init__(self, hiddenlayer , input_size, nozzle_loc, num_nozzle):\n",
    "        super(RNNmodel, self).__init__()\n",
    "        self.fc = nn.Sequential(\n",
    "            nn.RNN(input_size, hiddenlayer),\n",
    "            # nn.ReLU(),\n",
    "            nn.RNN(hiddenlayer, hiddenlayer),\n",
    "            # nn.ReLU(),\n",
    "            nn.RNN(hiddenlayer, hiddenlayer),\n",
    "            # nn.ReLU(),\n",
    "            nn.Linear(hiddenlayer,nozzle_loc*num_nozzle)\n",
    "        )\n",
    "        self.nozzle_loc = nozzle_loc\n",
    "        self.num_nozzle = num_nozzle\n",
    "\n",
    "    def forward(self, x):\n",
    "        output = self.fc(x)\n",
    "        print(output)\n",
    "        x = output.view(-1, self.nozzle_loc,self.num_nozzle)\n",
    "        return x"
   ]
  },
  {
   "cell_type": "code",
   "execution_count": 6,
   "metadata": {},
   "outputs": [],
   "source": [
    "# 하이퍼파라미터 설정\n",
    "learning_rate = 0.001\n",
    "weight_decay = 0.0000001\n",
    "num_epochs = 100000\n",
    "batch_size = 32\n",
    "hiddenlayer = 1000\n",
    "\n",
    "device = torch.device(\"cuda:0\")\n",
    "model = AssemblyClassifier(hiddenlayer = hiddenlayer,input_size=inputsize, nozzle_loc=outsize, num_nozzle=num_classes).to(device)\n",
    "criterion = nn.CrossEntropyLoss()\n",
    "optimizer = optim.Adam(model.parameters(), lr=learning_rate,weight_decay = weight_decay)"
   ]
  },
  {
   "cell_type": "code",
   "execution_count": 20,
   "metadata": {},
   "outputs": [],
   "source": [
    "# train_dataset = AssemblyDataset(X_train_scaled, y_train)\n",
    "# train_loader = DataLoader(train_dataset, batch_size=batch_size, shuffle=True)\n",
    "valid_dataset = AssemblyDataset(X_valid_scaled, y_valid)\n",
    "valid_loader = DataLoader(valid_dataset, batch_size=batch_size, shuffle=False)"
   ]
  },
  {
   "cell_type": "code",
   "execution_count": 8,
   "metadata": {},
   "outputs": [
    {
     "name": "stdout",
     "output_type": "stream",
     "text": [
      "Epoch [1/100000], Train Loss: 0.31192, Train Acc: 0.000, Valid Loss: 0.03791, Valid Acc: 0.000\n"
     ]
    },
    {
     "name": "stderr",
     "output_type": "stream",
     "text": [
      "\n",
      "KeyboardInterrupt\n",
      "\n"
     ]
    }
   ],
   "source": [
    "# 학습 진행\n",
    "t = time.time()\n",
    "best_result = 0\n",
    "\n",
    "trn_loss_list = []\n",
    "val_loss_list = []\n",
    "trn_acc_list = []\n",
    "val_acc_list = []\n",
    "\n",
    "for epoch in range(num_epochs):\n",
    "    train_loss = 0.0\n",
    "    valid_loss = 0.0\n",
    "    train_acc = 0.0\n",
    "    valid_acc = 0.0\n",
    "\n",
    "    # train 데이터셋으로 학습\n",
    "    model.train()\n",
    "    cnt = 0\n",
    "    for i, (inputs, labels) in enumerate(train_loader):\n",
    "        optimizer.zero_grad()\n",
    "        X_trn,Y_trn = inputs.to(device),labels.to(device)\n",
    "        outputs = model(X_trn)\n",
    "        loss = criterion(outputs.view(-1,Y_trn.shape[2]), Y_trn.argmax(dim=2).view(-1))\n",
    "        loss.backward()\n",
    "        optimizer.step()\n",
    "        train_loss += loss        \n",
    "        pred = outputs.argmax(dim=2)\n",
    "        Y_trn = Y_trn.argmax(dim=2)\n",
    "        correct = torch.eq(pred,Y_trn).sum(dim=1)\n",
    "        train_acc += torch.sum(correct // Y_trn.shape[1])       \n",
    "        cnt = i\n",
    "        \n",
    "    # validation 데이터셋으로 검증\n",
    "    with torch.no_grad():\n",
    "        model.eval()\n",
    "        rescheck = 0\n",
    "        for i, (inputs, labels) in enumerate(valid_loader):\n",
    "            X_val,Y_val = inputs.to(device),labels.to(device)\n",
    "            outputs = model(X_val)\n",
    "            loss = criterion(outputs.view(-1,Y_val.shape[2]), Y_val.argmax(dim=2).view(-1))\n",
    "            valid_loss += loss\n",
    "            pred = outputs.argmax(dim=2)\n",
    "            Y_val = Y_val.argmax(dim=2)\n",
    "            correct = torch.eq(pred,Y_val).sum(dim=1)\n",
    "            valid_acc += torch.sum(correct // Y_val.shape[1])\n",
    "            rescheck = i\n",
    "\n",
    "    # epoch별 평균 손실과 정확도 계산\n",
    "    train_loss = train_loss / len(train_loader)\n",
    "    train_acc = train_acc / len(train_loader.dataset)\n",
    "    valid_loss = valid_loss / len(valid_loader)\n",
    "    valid_acc = valid_acc / len(valid_loader.dataset) \n",
    "    \n",
    "    trn_loss_list.append(train_loss)\n",
    "    val_loss_list.append(valid_loss)\n",
    "    trn_acc_list.append(train_acc)\n",
    "    val_acc_list.append(valid_acc)\n",
    "    \n",
    "    if valid_acc > best_result:\n",
    "        best_result = valid_acc\n",
    "        torch.save(model.state_dict(), \"dnn_Head_All_230921_2.pt\")\n",
    "\n",
    "    print(f'Epoch [{epoch+1}/{num_epochs}], Train Loss: {train_loss:.5f}, Train Acc: {train_acc:.3f}, Valid Loss: {valid_loss:.5f}, Valid Acc: {valid_acc:.3f}')\n",
    "    \n",
    "elapsed_time = time.time() - t\n",
    "\n",
    "print(f'elapsed_time: {elapsed_time}')"
   ]
  },
  {
   "cell_type": "code",
   "execution_count": null,
   "metadata": {},
   "outputs": [],
   "source": [
    "with torch.no_grad():\n",
    "    model.eval()\n",
    "    rescheck = 0\n",
    "    for i, (inputs, labels) in enumerate(valid_loader):\n",
    "        X_val,Y_val = inputs.to(device),labels.to(device)\n",
    "        outputs = model(X_val)\n",
    "        loss = criterion(outputs.view(-1,Y_val.shape[2]), Y_val.argmax(dim=2).view(-1))\n",
    "        # loss = criterion(outputs.view(-1, num_classes), Y_val.view(-1))\n",
    "\n",
    "        valid_loss += loss\n",
    "\n",
    "        pred = outputs.argmax(dim=2)\n",
    "        # label = Y_val.argmax(dim=2)\n",
    "        pred = outputs.argmax(dim=2)\n",
    "        Y_val = Y_val.argmax(dim=2)\n",
    "        correct = torch.eq(pred,Y_val).sum(dim=1)\n",
    "        print(correct , pred ,Y_val )\n",
    "        valid_acc += torch.sum(correct // Y_val.shape[1])"
   ]
  },
  {
   "cell_type": "code",
   "execution_count": 8,
   "metadata": {},
   "outputs": [
    {
     "data": {
      "text/plain": [
       "<All keys matched successfully>"
      ]
     },
     "execution_count": 8,
     "metadata": {},
     "output_type": "execute_result"
    }
   ],
   "source": [
    "\n",
    "#검증 및 테스용 코드\n",
    "model_load = AssemblyClassifier(hiddenlayer = hiddenlayer,input_size=inputsize, nozzle_loc=outsize, num_nozzle=num_classes).to(device)\n",
    "model_load.load_state_dict(torch.load(\"dnn_Head_All_230921_2.pt\"))"
   ]
  },
  {
   "cell_type": "code",
   "execution_count": 21,
   "metadata": {},
   "outputs": [
    {
     "name": "stdout",
     "output_type": "stream",
     "text": [
      "tensor(0., device='cuda:0')\n",
      "my_val_acc :  0.32137030995106036\n"
     ]
    }
   ],
   "source": [
    "with torch.no_grad():\n",
    "    model_load.eval()\n",
    "    valid_acc = 0\n",
    "    total_cnt = 0\n",
    "    total_correct = 0\n",
    "    correct_list = []\n",
    "    pred_list = []\n",
    "    for i, (inputs, labels) in enumerate(valid_loader):\n",
    "        X_val,Y_val = inputs.to(device),labels.to(device)\n",
    "        outputs = model_load(X_val)\n",
    "        # loss = criterion(outputs.view(-1,Y_val.shape[2]), Y_val.argmax(dim=2).view(-1))\n",
    "        # loss = criterion(outputs.view(-1, num_classes), Y_val.view(-1))\n",
    "\n",
    "        # valid_loss += loss\n",
    "\n",
    "        pred = outputs.argmax(dim=2)\n",
    "        # label = Y_val.argmax(dim=2)\n",
    "        pred = outputs.argmax(dim=2)\n",
    "        Y_val = Y_val.argmax(dim=2)\n",
    "        correct = torch.eq(pred,Y_val).sum(dim=1)\n",
    "        # print(correct , pred ,Y_val )\n",
    "        valid_acc += torch.sum(correct // Y_val.shape[1])\n",
    "\n",
    "        #변경 방식\n",
    "        pred_np = pred.cpu().numpy()\n",
    "        pred_np = pred_np.reshape(-1)\n",
    "        Y_val_np = Y_val.cpu().numpy()\n",
    "        Y_val_np = Y_val_np.reshape(-1)\n",
    "        # print(pred_np.shape , Y_val_np.shape , len(pred_np))\n",
    "        for i in range(len(Y_val_np)):\n",
    "            if Y_val_np[i] != 0:\n",
    "                total_cnt+=1\n",
    "                correct_list.append(Y_val_np[i])\n",
    "                pred_list.append(pred_np[i])\n",
    "                if Y_val_np[i] == pred_np[i]:\n",
    "                    total_correct+=1\n",
    "\n",
    "    # print(correct , Y_val.shape , valid_acc , len(valid_loader.dataset) , rescheck+1)\n",
    "    valid_acc = valid_acc / len(valid_loader.dataset) \n",
    "    print(valid_acc)\n",
    "\n",
    "    my_val_acc = total_correct / total_cnt\n",
    "    print('my_val_acc : ' , my_val_acc)"
   ]
  },
  {
   "cell_type": "code",
   "execution_count": 22,
   "metadata": {},
   "outputs": [
    {
     "name": "stdout",
     "output_type": "stream",
     "text": [
      "[[ 0  0  0  0  0  0  0  0  0]\n",
      " [ 2 39 41 43 11  0  0  0  0]\n",
      " [ 5 84 17  8 35  0  0  0  0]\n",
      " [ 4  3 50 33 23  0  0  0  0]\n",
      " [16  8  2 18 41 31  0  0  0]\n",
      " [ 4  0  2 12  2 35  0  0  0]\n",
      " [ 2  0  0  0  0  0 23  0  0]\n",
      " [ 3  0  0  0  0  0  6  4  0]\n",
      " [ 0  0  0  0  0  0  1  0  5]]\n",
      "학습               precision    recall  f1-score   support\n",
      "\n",
      "           0       0.00      0.00      0.00         0\n",
      "           1       0.29      0.29      0.29       136\n",
      "           2       0.15      0.11      0.13       149\n",
      "           3       0.29      0.29      0.29       113\n",
      "           4       0.37      0.35      0.36       116\n",
      "           5       0.53      0.64      0.58        55\n",
      "           6       0.77      0.92      0.84        25\n",
      "           7       1.00      0.31      0.47        13\n",
      "           8       1.00      0.83      0.91         6\n",
      "\n",
      "    accuracy                           0.32       613\n",
      "   macro avg       0.49      0.42      0.43       613\n",
      "weighted avg       0.33      0.32      0.32       613\n",
      "\n"
     ]
    }
   ],
   "source": [
    "from sklearn.metrics import confusion_matrix, accuracy_score, precision_score, recall_score , classification_report\n",
    "\n",
    "# Evaluate the accuracy of the model\n",
    "\n",
    "print(confusion_matrix(correct_list , pred_list))\n",
    "print('학습' , classification_report(correct_list , pred_list))"
   ]
  },
  {
   "cell_type": "code",
   "execution_count": 35,
   "metadata": {},
   "outputs": [
    {
     "name": "stdout",
     "output_type": "stream",
     "text": [
      "36\n",
      "0\n",
      "134\n",
      "136\n",
      "112\n",
      "149\n",
      "114\n",
      "113\n",
      "112\n",
      "116\n",
      "66\n",
      "55\n",
      "30\n",
      "25\n",
      "4\n",
      "13\n",
      "5\n",
      "6\n",
      "613 613\n"
     ]
    }
   ],
   "source": [
    "for i in range(0,9):\n",
    "    print(pred_list.count(i))\n",
    "    print(correct_list.count(i))\n",
    "\n",
    "print(len(pred_list) , len(correct_list))"
   ]
  },
  {
   "cell_type": "code",
   "execution_count": 34,
   "metadata": {},
   "outputs": [
    {
     "data": {
      "image/png": "[encoded data removed]",
      "text/plain": [
       "<Figure size 640x480 with 1 Axes>"
      ]
     },
     "metadata": {},
     "output_type": "display_data"
    }
   ],
   "source": [
    "import matplotlib\n",
    "list_y = [ i for i in range(len(pred_list))]\n",
    "plt.scatter(list_y , pred_list)\n",
    "plt.show()"
   ]
  }
 ],
 "metadata": {
  "kernelspec": {
   "display_name": "Python 3.10.9 ('base')",
   "language": "python",
   "name": "python3"
  },
  "language_info": {
   "codemirror_mode": {
    "name": "ipython",
    "version": 3
   },
   "file_extension": ".py",
   "mimetype": "text/x-python",
   "name": "python",
   "nbconvert_exporter": "python",
   "pygments_lexer": "ipython3",
   "version": "3.10.9"
  },
  "orig_nbformat": 4,
  "vscode": {
   "interpreter": {
    "hash": "3c06e3e46abf38078fe4dac36a0085ec2b134ebbd73dd076183d243eeca6918f"
   }
  }
 },
 "nbformat": 4,
 "nbformat_minor": 2
}
